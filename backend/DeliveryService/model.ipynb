{
 "cells": [
  {
   "cell_type": "code",
   "execution_count": 379,
   "id": "initial_id",
   "metadata": {
    "collapsed": true,
    "ExecuteTime": {
     "end_time": "2024-12-08T11:35:49.379091200Z",
     "start_time": "2024-12-08T11:35:49.156438400Z"
    }
   },
   "outputs": [],
   "source": [
    "import pandas as pd\n",
    "import numpy as np\n",
    "import warnings\n",
    "\n",
    "warnings.filterwarnings(\"ignore\", category=FutureWarning)"
   ]
  },
  {
   "cell_type": "code",
   "execution_count": 380,
   "id": "3eb8137632f71321",
   "metadata": {
    "collapsed": false,
    "ExecuteTime": {
     "end_time": "2024-12-08T11:35:49.542090400Z",
     "start_time": "2024-12-08T11:35:49.176440800Z"
    }
   },
   "outputs": [],
   "source": [
    "df = pd.read_csv('uds-orders-aug2024.csv')"
   ]
  },
  {
   "cell_type": "markdown",
   "source": [
    "ID thông tin đơn hàng (id).\n",
    "Thời điểm tạo đơn (createdAt).\n",
    "Thời điểm giao hàng thành công (deliveredAt).\n",
    "Thời gian giao hàng dự kiến (expectedDeliveryTime).\n",
    "Mã đơn hàng (mdh).\n",
    "Tên gói hàng (package_name).\n",
    "Trạng thái đơn hàng (orderStatus).\n",
    "Địa chỉ và tọa độ người gửi (senderAddress, senderLat, senderLng).\n",
    "Địa chỉ và tọa độ người nhận (receiverAddress, receiverLat, receiverLng).\n",
    "Khoảng cách giao hàng (shippingDistance).\n",
    "Thông tin shipper (shipper).\n",
    "Khối lượng hàng hóa (weight).\n",
    "Loại dịch vụ giao hàng (serviceType).\n",
    "Hình ảnh sản phẩm (image)."
   ],
   "metadata": {
    "collapsed": false
   },
   "id": "d5dab50ea73c2d89"
  },
  {
   "cell_type": "code",
   "execution_count": 381,
   "outputs": [
    {
     "data": {
      "text/plain": "id                       object\ncreatedAt                object\ndeliveredAt              object\nexpectedDeliveryTime     object\nmdh                      object\npackage_name             object\norderStatus              object\nsenderAddress            object\nsenderLat               float64\nsenderLng               float64\nreceiverAddress          object\nreceiverLat             float64\nreceiverLng             float64\nshippingDistance        float64\nshipper                  object\nweight                  float64\nserviceType              object\nimage                    object\ndtype: object"
     },
     "execution_count": 381,
     "metadata": {},
     "output_type": "execute_result"
    }
   ],
   "source": [
    "df.dtypes"
   ],
   "metadata": {
    "collapsed": false,
    "ExecuteTime": {
     "end_time": "2024-12-08T11:35:49.542090400Z",
     "start_time": "2024-12-08T11:35:49.271436400Z"
    }
   },
   "id": "42053b748af7c7b0"
  },
  {
   "cell_type": "code",
   "execution_count": 382,
   "id": "c024496d9a0a2086",
   "metadata": {
    "collapsed": false,
    "ExecuteTime": {
     "end_time": "2024-12-08T11:35:49.544089400Z",
     "start_time": "2024-12-08T11:35:49.316438100Z"
    }
   },
   "outputs": [
    {
     "data": {
      "text/plain": "                         id                 createdAt  \\\n0  64c4c52b553721daabdbada4  2023-07-22T11:00:45.916Z   \n1  64d1bcb2a2a8ec9990ba219b  2023-08-08T03:55:30.423Z   \n2  64c4c52b553721daabdbad9b  2023-07-25T06:39:03.444Z   \n3  64c4c52b553721daabdbae31  2023-05-23T09:01:20.199Z   \n4  64c4c52b553721daabdbadaf  2023-07-20T04:37:59.317Z   \n\n                deliveredAt      expectedDeliveryTime            mdh  \\\n0  2023-07-29T09:34:48.117Z  2023-07-23T03:00:45.913Z  23203F4315CE0   \n1  2023-08-08T07:15:08.860Z  2023-08-08T06:55:30.416Z  2322090BA219B   \n2  2023-07-26T02:35:26.359Z  2023-07-26T03:39:03.438Z  23206F9622FAE   \n3  2023-05-23T10:43:44.628Z                       NaN  231439B5CE40D   \n4  2023-07-20T14:35:58.086Z  2023-07-20T15:37:59.312Z  2320172DF6817   \n\n     package_name orderStatus  \\\n0           TEST2     success   \n1        Kombucha     success   \n2        Kombucha     success   \n3        Yến tươi     success   \n4  Konbuchachacha     success   \n\n                                       senderAddress  senderLat   senderLng  \\\n0  Cà phê Vườn Chim, Nơ Trang Long, Phường 13, Bì...  10.819962  106.698637   \n1  95T Trần Văn Đang, phường 9, Quận 3, Thành phố...  10.783267  106.675843   \n2  95T Trần Văn Đang, phường 9, Quận 3, Thành phố...  10.783267  106.675843   \n3  54 Đường số 5, phường 4, Quận 8, Thành phố Hồ ...  10.735453  106.673198   \n4  Chung Cư Sài Gòn Avenue, Đường Số 4, khu phố 4...  10.864284  106.734470   \n\n                                     receiverAddress  receiverLat  \\\n0  Đại học Sư Phạm Kỹ Thuật TPHCM, Đường Võ Văn N...    10.850632   \n1  Vinhomes Central Park, 720A Đường Điện Biên Ph...    10.795773   \n2  131A/1B Đường Nguyễn Thị Minh Khai, Bến Thành,...    10.771407   \n3  80/77 Hoàng Hoa Thám, phường 7, Bình Thạnh, Th...    10.807386   \n4  THPT Gia Định, Võ Oanh, Phường 25, Bình Thạnh,...    10.804895   \n\n   receiverLng  shippingDistance                               shipper  \\\n0   106.771913            8701.0  {'$oid': '64c4c32c553721daabdbad3f'}   \n1   106.719365            7196.0  {'$oid': '64bb4c2362f9b15cf431583b'}   \n2   106.687905            1864.0  {'$oid': '6416bcf7349718f9506caee9'}   \n3   106.690652            8225.0  {'$oid': '6416bcf7349718f9506caee9'}   \n4   106.718580            6830.0  {'$oid': '6407e82bfbb0d0000624ffd1'}   \n\n   weight serviceType                                              image  \n0     1.5          5h  https://res.cloudinary.com/dsaqkqvem/image/upl...  \n1     4.0          3h  https://res.cloudinary.com/dsaqkqvem/image/upl...  \n2     1.5          5h  https://res.cloudinary.com/dsaqkqvem/image/upl...  \n3     0.5          3h  https://res.cloudinary.com/dsaqkqvem/image/upl...  \n4     1.5          5h  https://res.cloudinary.com/dsaqkqvem/image/upl...  ",
      "text/html": "<div>\n<style scoped>\n    .dataframe tbody tr th:only-of-type {\n        vertical-align: middle;\n    }\n\n    .dataframe tbody tr th {\n        vertical-align: top;\n    }\n\n    .dataframe thead th {\n        text-align: right;\n    }\n</style>\n<table border=\"1\" class=\"dataframe\">\n  <thead>\n    <tr style=\"text-align: right;\">\n      <th></th>\n      <th>id</th>\n      <th>createdAt</th>\n      <th>deliveredAt</th>\n      <th>expectedDeliveryTime</th>\n      <th>mdh</th>\n      <th>package_name</th>\n      <th>orderStatus</th>\n      <th>senderAddress</th>\n      <th>senderLat</th>\n      <th>senderLng</th>\n      <th>receiverAddress</th>\n      <th>receiverLat</th>\n      <th>receiverLng</th>\n      <th>shippingDistance</th>\n      <th>shipper</th>\n      <th>weight</th>\n      <th>serviceType</th>\n      <th>image</th>\n    </tr>\n  </thead>\n  <tbody>\n    <tr>\n      <th>0</th>\n      <td>64c4c52b553721daabdbada4</td>\n      <td>2023-07-22T11:00:45.916Z</td>\n      <td>2023-07-29T09:34:48.117Z</td>\n      <td>2023-07-23T03:00:45.913Z</td>\n      <td>23203F4315CE0</td>\n      <td>TEST2</td>\n      <td>success</td>\n      <td>Cà phê Vườn Chim, Nơ Trang Long, Phường 13, Bì...</td>\n      <td>10.819962</td>\n      <td>106.698637</td>\n      <td>Đại học Sư Phạm Kỹ Thuật TPHCM, Đường Võ Văn N...</td>\n      <td>10.850632</td>\n      <td>106.771913</td>\n      <td>8701.0</td>\n      <td>{'$oid': '64c4c32c553721daabdbad3f'}</td>\n      <td>1.5</td>\n      <td>5h</td>\n      <td>https://res.cloudinary.com/dsaqkqvem/image/upl...</td>\n    </tr>\n    <tr>\n      <th>1</th>\n      <td>64d1bcb2a2a8ec9990ba219b</td>\n      <td>2023-08-08T03:55:30.423Z</td>\n      <td>2023-08-08T07:15:08.860Z</td>\n      <td>2023-08-08T06:55:30.416Z</td>\n      <td>2322090BA219B</td>\n      <td>Kombucha</td>\n      <td>success</td>\n      <td>95T Trần Văn Đang, phường 9, Quận 3, Thành phố...</td>\n      <td>10.783267</td>\n      <td>106.675843</td>\n      <td>Vinhomes Central Park, 720A Đường Điện Biên Ph...</td>\n      <td>10.795773</td>\n      <td>106.719365</td>\n      <td>7196.0</td>\n      <td>{'$oid': '64bb4c2362f9b15cf431583b'}</td>\n      <td>4.0</td>\n      <td>3h</td>\n      <td>https://res.cloudinary.com/dsaqkqvem/image/upl...</td>\n    </tr>\n    <tr>\n      <th>2</th>\n      <td>64c4c52b553721daabdbad9b</td>\n      <td>2023-07-25T06:39:03.444Z</td>\n      <td>2023-07-26T02:35:26.359Z</td>\n      <td>2023-07-26T03:39:03.438Z</td>\n      <td>23206F9622FAE</td>\n      <td>Kombucha</td>\n      <td>success</td>\n      <td>95T Trần Văn Đang, phường 9, Quận 3, Thành phố...</td>\n      <td>10.783267</td>\n      <td>106.675843</td>\n      <td>131A/1B Đường Nguyễn Thị Minh Khai, Bến Thành,...</td>\n      <td>10.771407</td>\n      <td>106.687905</td>\n      <td>1864.0</td>\n      <td>{'$oid': '6416bcf7349718f9506caee9'}</td>\n      <td>1.5</td>\n      <td>5h</td>\n      <td>https://res.cloudinary.com/dsaqkqvem/image/upl...</td>\n    </tr>\n    <tr>\n      <th>3</th>\n      <td>64c4c52b553721daabdbae31</td>\n      <td>2023-05-23T09:01:20.199Z</td>\n      <td>2023-05-23T10:43:44.628Z</td>\n      <td>NaN</td>\n      <td>231439B5CE40D</td>\n      <td>Yến tươi</td>\n      <td>success</td>\n      <td>54 Đường số 5, phường 4, Quận 8, Thành phố Hồ ...</td>\n      <td>10.735453</td>\n      <td>106.673198</td>\n      <td>80/77 Hoàng Hoa Thám, phường 7, Bình Thạnh, Th...</td>\n      <td>10.807386</td>\n      <td>106.690652</td>\n      <td>8225.0</td>\n      <td>{'$oid': '6416bcf7349718f9506caee9'}</td>\n      <td>0.5</td>\n      <td>3h</td>\n      <td>https://res.cloudinary.com/dsaqkqvem/image/upl...</td>\n    </tr>\n    <tr>\n      <th>4</th>\n      <td>64c4c52b553721daabdbadaf</td>\n      <td>2023-07-20T04:37:59.317Z</td>\n      <td>2023-07-20T14:35:58.086Z</td>\n      <td>2023-07-20T15:37:59.312Z</td>\n      <td>2320172DF6817</td>\n      <td>Konbuchachacha</td>\n      <td>success</td>\n      <td>Chung Cư Sài Gòn Avenue, Đường Số 4, khu phố 4...</td>\n      <td>10.864284</td>\n      <td>106.734470</td>\n      <td>THPT Gia Định, Võ Oanh, Phường 25, Bình Thạnh,...</td>\n      <td>10.804895</td>\n      <td>106.718580</td>\n      <td>6830.0</td>\n      <td>{'$oid': '6407e82bfbb0d0000624ffd1'}</td>\n      <td>1.5</td>\n      <td>5h</td>\n      <td>https://res.cloudinary.com/dsaqkqvem/image/upl...</td>\n    </tr>\n  </tbody>\n</table>\n</div>"
     },
     "execution_count": 382,
     "metadata": {},
     "output_type": "execute_result"
    }
   ],
   "source": [
    "df.head()"
   ]
  },
  {
   "cell_type": "code",
   "execution_count": 383,
   "id": "a86946eb695efb2e",
   "metadata": {
    "collapsed": false,
    "ExecuteTime": {
     "end_time": "2024-12-08T11:35:49.544089400Z",
     "start_time": "2024-12-08T11:35:49.332097200Z"
    }
   },
   "outputs": [
    {
     "data": {
      "text/plain": "id                       object\ncreatedAt                object\ndeliveredAt              object\nexpectedDeliveryTime     object\nmdh                      object\npackage_name             object\norderStatus              object\nsenderAddress            object\nsenderLat               float64\nsenderLng               float64\nreceiverAddress          object\nreceiverLat             float64\nreceiverLng             float64\nshippingDistance        float64\nshipper                  object\nweight                  float64\nserviceType              object\nimage                    object\ndtype: object"
     },
     "execution_count": 383,
     "metadata": {},
     "output_type": "execute_result"
    }
   ],
   "source": [
    "df.dtypes"
   ]
  },
  {
   "cell_type": "code",
   "execution_count": 384,
   "id": "a30486e9f6762d23",
   "metadata": {
    "collapsed": false,
    "ExecuteTime": {
     "end_time": "2024-12-08T11:35:49.545091700Z",
     "start_time": "2024-12-08T11:35:49.346090500Z"
    }
   },
   "outputs": [
    {
     "data": {
      "text/plain": "id                        0\ncreatedAt                 0\ndeliveredAt               8\nexpectedDeliveryTime    105\nmdh                       0\npackage_name              0\norderStatus               0\nsenderAddress             0\nsenderLat                 0\nsenderLng                 0\nreceiverAddress           0\nreceiverLat               0\nreceiverLng               0\nshippingDistance          0\nshipper                   1\nweight                    0\nserviceType               0\nimage                     2\ndtype: int64"
     },
     "execution_count": 384,
     "metadata": {},
     "output_type": "execute_result"
    }
   ],
   "source": [
    "df.isnull().sum()"
   ]
  },
  {
   "cell_type": "code",
   "execution_count": 385,
   "id": "50098c71b7a77b26",
   "metadata": {
    "collapsed": false,
    "ExecuteTime": {
     "end_time": "2024-12-08T11:35:49.545091700Z",
     "start_time": "2024-12-08T11:35:49.365092Z"
    }
   },
   "outputs": [],
   "source": [
    "df['deliveredAt'].fillna({\n",
    "    'col': pd.to_datetime('1900-01-01')},\n",
    "    inplace=True\n",
    ")"
   ]
  },
  {
   "cell_type": "code",
   "execution_count": 386,
   "id": "d2cc47e4c2c2f5ae",
   "metadata": {
    "collapsed": false,
    "ExecuteTime": {
     "end_time": "2024-12-08T11:35:49.558087500Z",
     "start_time": "2024-12-08T11:35:49.376093Z"
    }
   },
   "outputs": [],
   "source": [
    "df.dropna(subset=['deliveredAt', 'expectedDeliveryTime'], inplace=True)"
   ]
  },
  {
   "cell_type": "code",
   "execution_count": 387,
   "id": "b33aad08dc1312a0",
   "metadata": {
    "collapsed": false,
    "ExecuteTime": {
     "end_time": "2024-12-08T11:35:49.620090900Z",
     "start_time": "2024-12-08T11:35:49.392090300Z"
    }
   },
   "outputs": [
    {
     "name": "stdout",
     "output_type": "stream",
     "text": [
      "object\n",
      "0\n"
     ]
    }
   ],
   "source": [
    "print(df['expectedDeliveryTime'].dtype)\n",
    "print(df['expectedDeliveryTime'].isnull().sum())"
   ]
  },
  {
   "cell_type": "code",
   "execution_count": 388,
   "id": "6f7b574666e9dd2f",
   "metadata": {
    "collapsed": false,
    "ExecuteTime": {
     "end_time": "2024-12-08T11:35:49.620090900Z",
     "start_time": "2024-12-08T11:35:49.409108800Z"
    }
   },
   "outputs": [],
   "source": [
    "service_type_mapping = {\n",
    "    '3h': 1,\n",
    "    '5h': 2,\n",
    "    'luu_kho': 3,\n",
    "    'ban_tai_nhanh': 4,\n",
    "    'ban_tai_4h': 5\n",
    "}\n",
    "\n",
    "order_status_mapping = {\n",
    "    'success': 1,\n",
    "    'failed': 0\n",
    "}\n",
    "df['orderStatus'] = df['orderStatus'].map(order_status_mapping)\n",
    "df['serviceType'] = df['serviceType'].map(service_type_mapping)\n",
    "df['expectedDeliveryTime'] = pd.to_datetime(df['expectedDeliveryTime'])\n",
    "df['createdAt'] = pd.to_datetime(df['createdAt'])\n",
    "df['eta'] = (df['expectedDeliveryTime'] - df['createdAt']).dt.total_seconds() / 3600  # Giờ"
   ]
  },
  {
   "cell_type": "code",
   "execution_count": 389,
   "outputs": [],
   "source": [
    "df['image'] = df['image'].replace(np.nan, 'unknown')"
   ],
   "metadata": {
    "collapsed": false,
    "ExecuteTime": {
     "end_time": "2024-12-08T11:35:49.620090900Z",
     "start_time": "2024-12-08T11:35:49.443092500Z"
    }
   },
   "id": "d916e3223ef8bd8c"
  },
  {
   "cell_type": "code",
   "execution_count": 390,
   "outputs": [
    {
     "data": {
      "text/plain": "id                                   object\ncreatedAt               datetime64[ns, UTC]\ndeliveredAt                          object\nexpectedDeliveryTime    datetime64[ns, UTC]\nmdh                                  object\npackage_name                         object\norderStatus                           int64\nsenderAddress                        object\nsenderLat                           float64\nsenderLng                           float64\nreceiverAddress                      object\nreceiverLat                         float64\nreceiverLng                         float64\nshippingDistance                    float64\nshipper                              object\nweight                              float64\nserviceType                           int64\nimage                                object\neta                                 float64\ndtype: object"
     },
     "execution_count": 390,
     "metadata": {},
     "output_type": "execute_result"
    }
   ],
   "source": [
    "df.dtypes"
   ],
   "metadata": {
    "collapsed": false,
    "ExecuteTime": {
     "end_time": "2024-12-08T11:35:49.620090900Z",
     "start_time": "2024-12-08T11:35:49.457098500Z"
    }
   },
   "id": "5e51b94a06a62f35"
  },
  {
   "cell_type": "code",
   "execution_count": 1,
   "id": "1bff2ee731fd5e3c",
   "metadata": {
    "collapsed": false,
    "ExecuteTime": {
     "end_time": "2024-12-08T14:16:04.664708400Z",
     "start_time": "2024-12-08T14:16:02.261608Z"
    }
   },
   "outputs": [
    {
     "ename": "NameError",
     "evalue": "name 'df' is not defined",
     "output_type": "error",
     "traceback": [
      "\u001B[1;31m---------------------------------------------------------------------------\u001B[0m",
      "\u001B[1;31mNameError\u001B[0m                                 Traceback (most recent call last)",
      "Cell \u001B[1;32mIn[1], line 8\u001B[0m\n\u001B[0;32m      4\u001B[0m \u001B[38;5;66;03m# X = df.select_dtypes(include=['number'])\u001B[39;00m\n\u001B[0;32m      5\u001B[0m \u001B[38;5;66;03m# y = df['eta']\u001B[39;00m\n\u001B[0;32m      7\u001B[0m le \u001B[38;5;241m=\u001B[39m LabelEncoder()\n\u001B[1;32m----> 8\u001B[0m df[\u001B[38;5;124m'\u001B[39m\u001B[38;5;124mid\u001B[39m\u001B[38;5;124m'\u001B[39m] \u001B[38;5;241m=\u001B[39m le\u001B[38;5;241m.\u001B[39mfit_transform(\u001B[43mdf\u001B[49m[\u001B[38;5;124m'\u001B[39m\u001B[38;5;124mid\u001B[39m\u001B[38;5;124m'\u001B[39m])\n\u001B[0;32m     10\u001B[0m scaler \u001B[38;5;241m=\u001B[39m StandardScaler()\n\u001B[0;32m     11\u001B[0m df[[\u001B[38;5;124m'\u001B[39m\u001B[38;5;124mweight\u001B[39m\u001B[38;5;124m'\u001B[39m, \u001B[38;5;124m'\u001B[39m\u001B[38;5;124mshippingDistance\u001B[39m\u001B[38;5;124m'\u001B[39m, \u001B[38;5;124m'\u001B[39m\u001B[38;5;124mserviceType\u001B[39m\u001B[38;5;124m'\u001B[39m]] \u001B[38;5;241m=\u001B[39m scaler\u001B[38;5;241m.\u001B[39mfit_transform(\n\u001B[0;32m     12\u001B[0m     df[[\u001B[38;5;124m'\u001B[39m\u001B[38;5;124mweight\u001B[39m\u001B[38;5;124m'\u001B[39m, \u001B[38;5;124m'\u001B[39m\u001B[38;5;124mshippingDistance\u001B[39m\u001B[38;5;124m'\u001B[39m, \u001B[38;5;124m'\u001B[39m\u001B[38;5;124mserviceType\u001B[39m\u001B[38;5;124m'\u001B[39m]])\n",
      "\u001B[1;31mNameError\u001B[0m: name 'df' is not defined"
     ]
    }
   ],
   "source": [
    "from sklearn.preprocessing import StandardScaler\n",
    "from sklearn.preprocessing import LabelEncoder\n",
    "\n",
    "# X = df.select_dtypes(include=['number'])\n",
    "# y = df['eta']\n",
    "\n",
    "le = LabelEncoder()\n",
    "df['id'] = le.fit_transform(df['id'])\n",
    "\n",
    "scaler = StandardScaler()\n",
    "df[['weight', 'shippingDistance', 'serviceType']] = scaler.fit_transform(\n",
    "    df[['weight', 'shippingDistance', 'serviceType']])"
   ]
  },
  {
   "cell_type": "code",
   "execution_count": 392,
   "id": "d779fbeeecbbfb3b",
   "metadata": {
    "collapsed": false,
    "ExecuteTime": {
     "end_time": "2024-12-08T11:35:49.620090900Z",
     "start_time": "2024-12-08T11:35:49.502090200Z"
    }
   },
   "outputs": [],
   "source": [
    "from sklearn.model_selection import train_test_split\n",
    "\n",
    "X = df[['serviceType', 'weight', 'shippingDistance']]\n",
    "y = df['eta']\n",
    "X_train, X_test, y_train, y_test = train_test_split(X, y, test_size=0.2, random_state=42)"
   ]
  },
  {
   "cell_type": "code",
   "execution_count": 393,
   "outputs": [],
   "source": [
    "from sklearn.ensemble import RandomForestRegressor, GradientBoostingRegressor\n",
    "from sklearn.metrics import mean_absolute_error, mean_squared_error, r2_score"
   ],
   "metadata": {
    "collapsed": false,
    "ExecuteTime": {
     "end_time": "2024-12-08T11:35:49.621092Z",
     "start_time": "2024-12-08T11:35:49.517089400Z"
    }
   },
   "id": "56e894277a347f96"
  },
  {
   "cell_type": "markdown",
   "source": [
    "# Đánh giá mô hình"
   ],
   "metadata": {
    "collapsed": false
   },
   "id": "cc5304d8059a68ab"
  },
  {
   "cell_type": "code",
   "execution_count": 394,
   "outputs": [],
   "source": [
    "def evaluate_model(y_test, y_pred):\n",
    "    mae = mean_absolute_error(y_test, y_pred)\n",
    "    mse = mean_squared_error(y_test, y_pred)\n",
    "    rmse = mean_squared_error(y_test, y_pred, squared=False)\n",
    "    r2 = r2_score(y_test, y_pred)\n",
    "    print(f\"Mean Absolute Error (MAE): {mae}\")\n",
    "    print(f\"Mean Squared Error (MSE): {mse}\")\n",
    "    print(f\"Root Mean Squared Error (RMSE): {rmse}\")\n",
    "    print(f\"R-squared (R²): {r2}\")\n",
    "    return mae, mse, rmse, r2"
   ],
   "metadata": {
    "collapsed": false,
    "ExecuteTime": {
     "end_time": "2024-12-08T11:35:49.624092300Z",
     "start_time": "2024-12-08T11:35:49.535089800Z"
    }
   },
   "id": "25226ea6f5fd9b1e"
  },
  {
   "cell_type": "markdown",
   "source": [
    "## Random Forest Regressor: "
   ],
   "metadata": {
    "collapsed": false
   },
   "id": "1c2458c8660c1965"
  },
  {
   "cell_type": "code",
   "execution_count": 395,
   "outputs": [
    {
     "name": "stdout",
     "output_type": "stream",
     "text": [
      "Mean Absolute Error (MAE): 2.683984258190515\n",
      "Mean Squared Error (MSE): 28.54342137244438\n",
      "Root Mean Squared Error (RMSE): 5.342604362335319\n",
      "R-squared (R²): 0.3853335735183968\n"
     ]
    },
    {
     "data": {
      "text/plain": "(np.float64(2.683984258190515),\n np.float64(28.54342137244438),\n np.float64(5.342604362335319),\n 0.3853335735183968)"
     },
     "execution_count": 395,
     "metadata": {},
     "output_type": "execute_result"
    }
   ],
   "source": [
    "model_random_forest = RandomForestRegressor(n_estimators=100, random_state=42)\n",
    "model_random_forest.fit(X_train, y_train)\n",
    "y_pred = model_random_forest.predict(X_test)\n",
    "evaluate_model(y_test, y_pred)"
   ],
   "metadata": {
    "collapsed": false,
    "ExecuteTime": {
     "end_time": "2024-12-08T11:35:49.978091200Z",
     "start_time": "2024-12-08T11:35:49.548090800Z"
    }
   },
   "id": "9a4448c1af52aff8"
  },
  {
   "cell_type": "markdown",
   "source": [
    "## Gradient Boosting Regressor:"
   ],
   "metadata": {
    "collapsed": false
   },
   "id": "58b613a3e23786c6"
  },
  {
   "cell_type": "code",
   "execution_count": 396,
   "outputs": [
    {
     "name": "stdout",
     "output_type": "stream",
     "text": [
      "Mean Absolute Error (MAE): 2.7533414757035226\n",
      "Mean Squared Error (MSE): 26.48041378538515\n",
      "Root Mean Squared Error (RMSE): 5.145912337514617\n",
      "R-squared (R²): 0.4297592744459776\n"
     ]
    },
    {
     "data": {
      "text/plain": "(np.float64(2.7533414757035226),\n np.float64(26.48041378538515),\n np.float64(5.145912337514617),\n 0.4297592744459776)"
     },
     "execution_count": 396,
     "metadata": {},
     "output_type": "execute_result"
    }
   ],
   "source": [
    "model_gradient_boosting = GradientBoostingRegressor(n_estimators=100, random_state=42)\n",
    "model_gradient_boosting.fit(X_train, y_train)\n",
    "y_pred = model_gradient_boosting.predict(X_test)\n",
    "evaluate_model(y_test, y_pred)"
   ],
   "metadata": {
    "collapsed": false,
    "ExecuteTime": {
     "end_time": "2024-12-08T11:35:50.153090200Z",
     "start_time": "2024-12-08T11:35:49.971090500Z"
    }
   },
   "id": "4aab7f0bbcf626f8"
  },
  {
   "cell_type": "markdown",
   "source": [
    "# K-Nearest Neighbors Regresso"
   ],
   "metadata": {
    "collapsed": false
   },
   "id": "8e784621eed48057"
  },
  {
   "cell_type": "code",
   "execution_count": 397,
   "outputs": [
    {
     "name": "stdout",
     "output_type": "stream",
     "text": [
      "Mean Absolute Error (MAE): 2.779752469432314\n",
      "Mean Squared Error (MSE): 25.7773013886945\n",
      "Root Mean Squared Error (RMSE): 5.0771351556457995\n",
      "R-squared (R²): 0.4449004020161287\n"
     ]
    },
    {
     "data": {
      "text/plain": "(np.float64(2.779752469432314),\n np.float64(25.7773013886945),\n np.float64(5.0771351556457995),\n 0.4449004020161287)"
     },
     "execution_count": 397,
     "metadata": {},
     "output_type": "execute_result"
    }
   ],
   "source": [
    "from sklearn.neighbors import KNeighborsRegressor\n",
    "\n",
    "model_KNeighborsRegressor = KNeighborsRegressor(n_neighbors=5)\n",
    "model_KNeighborsRegressor.fit(X_train, y_train)\n",
    "y_pred = model_KNeighborsRegressor.predict(X_test)\n",
    "evaluate_model(y_test, y_pred)"
   ],
   "metadata": {
    "collapsed": false,
    "ExecuteTime": {
     "end_time": "2024-12-08T11:35:50.241091500Z",
     "start_time": "2024-12-08T11:35:50.156089600Z"
    }
   },
   "id": "eb48a663a2e80d81"
  },
  {
   "cell_type": "markdown",
   "source": [
    "# Logistic Regression   "
   ],
   "metadata": {
    "collapsed": false
   },
   "id": "db1aad709378fa9c"
  },
  {
   "cell_type": "code",
   "execution_count": 398,
   "outputs": [
    {
     "name": "stdout",
     "output_type": "stream",
     "text": [
      "Mean Absolute Error (MAE): 3.747926302821662\n",
      "Mean Squared Error (MSE): 33.28367836244726\n",
      "Root Mean Squared Error (RMSE): 5.769200842616528\n",
      "R-squared (R²): 0.2832548217587233\n"
     ]
    },
    {
     "data": {
      "text/plain": "(np.float64(3.747926302821662),\n np.float64(33.28367836244726),\n np.float64(5.769200842616528),\n 0.2832548217587233)"
     },
     "execution_count": 398,
     "metadata": {},
     "output_type": "execute_result"
    }
   ],
   "source": [
    "from sklearn.linear_model import LinearRegression\n",
    "\n",
    "model_linear_regression = LinearRegression()\n",
    "model_linear_regression.fit(X_train, y_train)\n",
    "y_pred = model_linear_regression.predict(X_test)\n",
    "evaluate_model(y_test, y_pred)"
   ],
   "metadata": {
    "collapsed": false,
    "ExecuteTime": {
     "end_time": "2024-12-08T11:35:50.252088800Z",
     "start_time": "2024-12-08T11:35:50.187089200Z"
    }
   },
   "id": "4763ec6656c34653"
  },
  {
   "cell_type": "markdown",
   "source": [
    "# Hyperparameter Tuning "
   ],
   "metadata": {
    "collapsed": false
   },
   "id": "9b2dc8fa3f146007"
  },
  {
   "cell_type": "code",
   "execution_count": 399,
   "outputs": [
    {
     "name": "stdout",
     "output_type": "stream",
     "text": [
      "Best parameters: {'max_depth': 10, 'min_samples_leaf': 1, 'min_samples_split': 10, 'n_estimators': 200}\n",
      "Mean Absolute Error (MAE): 2.685358732534882\n",
      "Mean Squared Error (MSE): 26.80213537162706\n",
      "Root Mean Squared Error (RMSE): 5.177077879617715\n",
      "R-squared (R²): 0.422831182149088\n"
     ]
    },
    {
     "data": {
      "text/plain": "(np.float64(2.685358732534882),\n np.float64(26.80213537162706),\n np.float64(5.177077879617715),\n 0.422831182149088)"
     },
     "execution_count": 399,
     "metadata": {},
     "output_type": "execute_result"
    }
   ],
   "source": [
    "from sklearn.model_selection import GridSearchCV\n",
    "\n",
    "param_grid = {\n",
    "    'n_estimators': [50, 100, 200],\n",
    "    'max_depth': [None, 10, 20, 30],\n",
    "    'min_samples_split': [2, 5, 10],\n",
    "    'min_samples_leaf': [1, 2, 4]\n",
    "}\n",
    "grid_search = GridSearchCV(estimator=model_random_forest, param_grid=param_grid, cv=3, n_jobs=-1,\n",
    "                           scoring='neg_mean_absolute_error')\n",
    "grid_search.fit(X_train, y_train)\n",
    "print(\"Best parameters:\", grid_search.best_params_)\n",
    "y_pred = grid_search.best_estimator_.predict(X_test)\n",
    "\n",
    "evaluate_model(y_test, y_pred)"
   ],
   "metadata": {
    "collapsed": false,
    "ExecuteTime": {
     "end_time": "2024-12-08T11:36:09.919599Z",
     "start_time": "2024-12-08T11:35:50.222091300Z"
    }
   },
   "id": "76b501ea7bc6c91b"
  },
  {
   "cell_type": "code",
   "execution_count": 400,
   "outputs": [],
   "source": [
    "# from sklearn.svm import SVR\n",
    "# from sklearn.model_selection import GridSearchCV\n",
    "# \n",
    "# # Define the model\n",
    "# model = SVR()\n",
    "# \n",
    "# # Set up the parameter grid\n",
    "# param_grid = {\n",
    "#     'kernel': ['linear', 'poly', 'rbf'],\n",
    "#     'C': [0.1, 1, 10, 100],  # Regularization parameter\n",
    "#     'gamma': ['scale', 'auto'],  # Kernel coefficient\n",
    "#     'epsilon': [0.01, 0.1, 0.2]\n",
    "# }\n",
    "# \n",
    "# # Set up GridSearchCV\n",
    "# grid_search = GridSearchCV(estimator=model, param_grid=param_grid, cv=5, n_jobs=-1, scoring='neg_mean_absolute_error')\n",
    "# \n",
    "# # Fit GridSearchCV\n",
    "# grid_search.fit(X_train, y_train)\n",
    "# \n",
    "# # Get the best parameters\n",
    "# print(\"Best parameters found: \", grid_search.best_params_)\n",
    "# \n",
    "# # Predict with the best model\n",
    "# y_pred = grid_search.best_estimator_.predict(X_test)\n",
    "# evaluate_model(y_test, y_pred)"
   ],
   "metadata": {
    "collapsed": false,
    "ExecuteTime": {
     "end_time": "2024-12-08T11:36:09.962627800Z",
     "start_time": "2024-12-08T11:36:09.921607Z"
    }
   },
   "id": "de6bd09a35857f84"
  },
  {
   "cell_type": "code",
   "execution_count": 401,
   "id": "e3a8dcf0ad8efcaa",
   "metadata": {
    "collapsed": false,
    "ExecuteTime": {
     "end_time": "2024-12-08T11:36:09.963640Z",
     "start_time": "2024-12-08T11:36:09.937776200Z"
    }
   },
   "outputs": [
    {
     "data": {
      "text/plain": "['random_forest_model.pkl']"
     },
     "execution_count": 401,
     "metadata": {},
     "output_type": "execute_result"
    }
   ],
   "source": [
    "import joblib\n",
    "\n",
    "joblib.dump(model_KNeighborsRegressor, 'random_forest_model.pkl')"
   ]
  }
 ],
 "metadata": {
  "kernelspec": {
   "display_name": "Python 3",
   "language": "python",
   "name": "python3"
  },
  "language_info": {
   "codemirror_mode": {
    "name": "ipython",
    "version": 2
   },
   "file_extension": ".py",
   "mimetype": "text/x-python",
   "name": "python",
   "nbconvert_exporter": "python",
   "pygments_lexer": "ipython2",
   "version": "2.7.6"
  }
 },
 "nbformat": 4,
 "nbformat_minor": 5
}
